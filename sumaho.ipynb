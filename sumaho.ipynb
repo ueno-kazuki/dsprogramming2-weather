{
 "cells": [
  {
   "cell_type": "code",
   "execution_count": 2,
   "metadata": {},
   "outputs": [],
   "source": [
    "import sqlite3"
   ]
  },
  {
   "cell_type": "code",
   "execution_count": 3,
   "metadata": {},
   "outputs": [
    {
     "data": {
      "text/plain": [
       "'/Users/uenokazuki/dsprogramming2'"
      ]
     },
     "execution_count": 3,
     "metadata": {},
     "output_type": "execute_result"
    }
   ],
   "source": [
    "pwd"
   ]
  },
  {
   "cell_type": "code",
   "execution_count": 4,
   "metadata": {},
   "outputs": [],
   "source": [
    "path = '/Users/uenokazuki/dsprogramming2'\n",
    "db_name = 'sumaho.sqlite'\n",
    "#DBに接続する（指定したDBファイルが存在しない場合は、新規に作成される）\n",
    "con = sqlite3.connect(path + db_name)\n",
    "#DBへの接続を閉じる\n",
    "con.close()"
   ]
  },
  {
   "cell_type": "code",
   "execution_count": 6,
   "metadata": {},
   "outputs": [
    {
     "ename": "OperationalError",
     "evalue": "table sumaho already exists",
     "output_type": "error",
     "traceback": [
      "\u001b[0;31m---------------------------------------------------------------------------\u001b[0m",
      "\u001b[0;31mOperationalError\u001b[0m                          Traceback (most recent call last)",
      "\u001b[1;32m/Users/uenokazuki/dsprogramming2/sumaho.ipynb セル 4\u001b[0m line \u001b[0;36m1\n\u001b[1;32m      <a href='vscode-notebook-cell:/Users/uenokazuki/dsprogramming2/sumaho.ipynb#W3sZmlsZQ%3D%3D?line=7'>8</a>\u001b[0m sql_create_table \u001b[39m=\u001b[39m\u001b[39m'\u001b[39m\u001b[39mCREATE TABLE sumaho(\u001b[39m\u001b[39m\"\u001b[39m\u001b[39mエンターテイメント\u001b[39m\u001b[39m\"\u001b[39m\u001b[39m text, \u001b[39m\u001b[39m\"\u001b[39m\u001b[39mゲーム\u001b[39m\u001b[39m\"\u001b[39m\u001b[39m text, SNS text, \u001b[39m\u001b[39m\"\u001b[39m\u001b[39m情報と読書\u001b[39m\u001b[39m\"\u001b[39m\u001b[39m text, \u001b[39m\u001b[39m\"\u001b[39m\u001b[39mその他\u001b[39m\u001b[39m\"\u001b[39m\u001b[39m text);\u001b[39m\u001b[39m'\u001b[39m\n\u001b[1;32m     <a href='vscode-notebook-cell:/Users/uenokazuki/dsprogramming2/sumaho.ipynb#W3sZmlsZQ%3D%3D?line=9'>10</a>\u001b[0m \u001b[39m#sqlを実行する\u001b[39;00m\n\u001b[0;32m---> <a href='vscode-notebook-cell:/Users/uenokazuki/dsprogramming2/sumaho.ipynb#W3sZmlsZQ%3D%3D?line=10'>11</a>\u001b[0m cur\u001b[39m.\u001b[39;49mexecute(sql_create_table)\n\u001b[1;32m     <a href='vscode-notebook-cell:/Users/uenokazuki/dsprogramming2/sumaho.ipynb#W3sZmlsZQ%3D%3D?line=12'>13</a>\u001b[0m \u001b[39m#必要があればコミットする（データ変更などがあった場合）\u001b[39;00m\n\u001b[1;32m     <a href='vscode-notebook-cell:/Users/uenokazuki/dsprogramming2/sumaho.ipynb#W3sZmlsZQ%3D%3D?line=14'>15</a>\u001b[0m con\u001b[39m.\u001b[39mclose()\n",
      "\u001b[0;31mOperationalError\u001b[0m: table sumaho already exists"
     ]
    }
   ],
   "source": [
    "con = sqlite3.connect(path + db_name)\n",
    "#print(type(con))\n",
    "\n",
    "#sqlを実行するためのオブジェクトを取得\n",
    "cur = con.cursor()\n",
    "\n",
    "#テーブルを作成するsql\n",
    "sql_create_table ='CREATE TABLE sumaho(\"エンターテイメント\" text, \"ゲーム\" text, SNS text, \"情報と読書\" text, \"その他\" text);'\n",
    "\n",
    "#sqlを実行する\n",
    "cur.execute(sql_create_table)\n",
    "\n",
    "#必要があればコミットする（データ変更などがあった場合）\n",
    "\n",
    "con.close()"
   ]
  },
  {
   "cell_type": "code",
   "execution_count": 7,
   "metadata": {},
   "outputs": [],
   "source": [
    "con = sqlite3.connect(path + db_name)\n",
    "#print(type(con))\n",
    "\n",
    "#sqlを実行するためのオブジェクトを取得\n",
    "cur = con.cursor()\n",
    "\n",
    "#sqlを用意する\n",
    "sql_insert_many = \"INSERT INTO sumaho VALUES (?, ?, ?, ?, ?);\"\n",
    "\n",
    "#データをリストで用意する\n",
    "#エンターテイメント, ゲーム, SNS, 情報と読書, その他\n",
    "sumaho_list = [\n",
    "    (\"1時間26分\",\"5時間\",\"1時間57分\",\"1時間30分\",\"3分\"),\n",
    "    (\"6時間21分\",\"3時間21分\",\"1時間25分\",\"1分\",\"10分\"),\n",
    "    (\"7時間29分\",\"2時間21分\",\"33分\",\"55分\",\"10分\"),\n",
    "    (\"3時間53分\",\"4時間48分\",\"1時間16分\",\"9分\",\"31分\"),\n",
    "    (\"4時間33分\",\"6時間6分\",\"2時間36分\",\"1時間19分\",\"27分\"),\n",
    "    (\"3時間1分\",\"1時間44分\",\"1時間21分\",\"32分\",\"3時間38分\"),\n",
    "    (\"5時間30分\",\"1時間40分\",\"3時間15分\",\"17分\",\"5時間16分\"),\n",
    "    (\"10時間43分\",\"4時間43分\",\"2時間35分\",\"24分\",\"1時間12分\"),\n",
    "    (\"8時間45分\",\"1時間43分\",\"2時間43分\",\"28分\",\"7分\"),\n",
    "    (\"6時間57分\",\"3時間33分\",\"1時間7分\",\"0分\",\"3分\"),\n",
    "    (\"5時間14分\",\"4時間29分\",\"1時間43分\",\"33分\",\"20分\"),\n",
    "    (\"2時間29分\",\"4時間20分\",\"1時間15分\",\"1時間49分\",\"34分\"),\n",
    "]\n",
    "\n",
    "#sqlを実行する\n",
    "cur.executemany(sql_insert_many, sumaho_list)\n",
    "\n",
    "#コミット処理(データ操作を反映させる)\n",
    "con.commit()\n",
    "\n",
    "con.close()"
   ]
  },
  {
   "cell_type": "code",
   "execution_count": 8,
   "metadata": {},
   "outputs": [
    {
     "name": "stdout",
     "output_type": "stream",
     "text": [
      "('1時間26分', '5時間', '1時間57分', '1時間30分', '3分')\n",
      "('6時間21分', '3時間21分', '1時間25分', '1分', '10分')\n",
      "('7時間29分', '2時間21分', '33分', '55分', '10分')\n",
      "('3時間53分', '4時間48分', '1時間16分', '9分', '31分')\n",
      "('4時間33分', '6時間6分', '2時間36分', '1時間19分', '27分')\n",
      "('3時間1分', '1時間44分', '1時間21分', '32分', '3時間38分')\n",
      "('5時間30分', '1時間40分', '3時間15分', '17分', '5時間16分')\n",
      "('10時間43分', '4時間43分', '2時間35分', '24分', '1時間12分')\n",
      "('8時間45分', '1時間43分', '2時間43分', '28分', '7分')\n",
      "('6時間57分', '3時間33分', '1時間7分', '0分', '3分')\n",
      "('5時間14分', '4時間29分', '1時間43分', '33分', '20分')\n",
      "('2時間29分', '4時間20分', '1時間15分', '1時間49分', '34分')\n"
     ]
    }
   ],
   "source": [
    "con = sqlite3.connect(path + db_name)\n",
    "#print(type(con))\n",
    "\n",
    "#sqlを実行するためのオブジェクトを取得\n",
    "cur = con.cursor()\n",
    "\n",
    "#sqlを用意する\n",
    "sql_select = 'SELECT * FROM sumaho;'\n",
    "\n",
    "#sqlを実行する\n",
    "cur.execute(sql_select)\n",
    "\n",
    "for r in cur:\n",
    "  print(r)\n",
    "\n",
    "con.close()"
   ]
  },
  {
   "cell_type": "code",
   "execution_count": 11,
   "metadata": {},
   "outputs": [
    {
     "name": "stdout",
     "output_type": "stream",
     "text": [
      "Last Row: ('2時間29分', '4時間20分', '1時間15分', '1時間49分', '34分')\n",
      "Last Row Deleted\n"
     ]
    }
   ],
   "source": [
    "import sqlite3\n",
    "\n",
    "# データベースに接続\n",
    "con = sqlite3.connect(path + db_name)\n",
    "cur = con.cursor()\n",
    "\n",
    "try:\n",
    "    # データを選択して表示\n",
    "    cur.execute('SELECT * FROM sumaho')\n",
    "    rows = cur.fetchall()\n",
    "\n",
    "    # 最後の行のデータを表示\n",
    "    if rows:\n",
    "        last_row = rows[-1]\n",
    "        print(\"Last Row:\", last_row)\n",
    "\n",
    "        # 最後の行を削除（全ての列を条件なしで削除）\n",
    "        cur.execute('DELETE FROM sumaho WHERE ROWID = (SELECT ROWID FROM sumaho ORDER BY ROWID DESC LIMIT 1)')\n",
    "        print(\"Last Row Deleted\")\n",
    "\n",
    "    else:\n",
    "        print(\"No Rows in the Table\")\n",
    "\n",
    "except Exception as e:\n",
    "    print(\"Error:\", e)\n",
    "\n",
    "finally:\n",
    "    # データベースを閉じる\n",
    "    con.commit()\n",
    "    con.close()\n"
   ]
  },
  {
   "cell_type": "code",
   "execution_count": 12,
   "metadata": {},
   "outputs": [
    {
     "name": "stdout",
     "output_type": "stream",
     "text": [
      "('1時間26分', '5時間', '1時間57分', '1時間30分', '3分')\n",
      "('6時間21分', '3時間21分', '1時間25分', '1分', '10分')\n",
      "('7時間29分', '2時間21分', '33分', '55分', '10分')\n",
      "('3時間53分', '4時間48分', '1時間16分', '9分', '31分')\n",
      "('4時間33分', '6時間6分', '2時間36分', '1時間19分', '27分')\n",
      "('3時間1分', '1時間44分', '1時間21分', '32分', '3時間38分')\n",
      "('5時間30分', '1時間40分', '3時間15分', '17分', '5時間16分')\n",
      "('10時間43分', '4時間43分', '2時間35分', '24分', '1時間12分')\n",
      "('8時間45分', '1時間43分', '2時間43分', '28分', '7分')\n",
      "('6時間57分', '3時間33分', '1時間7分', '0分', '3分')\n",
      "('5時間14分', '4時間29分', '1時間43分', '33分', '20分')\n"
     ]
    }
   ],
   "source": [
    "con = sqlite3.connect(path + db_name)\n",
    "#print(type(con))\n",
    "\n",
    "#sqlを実行するためのオブジェクトを取得\n",
    "cur = con.cursor()\n",
    "\n",
    "#sqlを用意する\n",
    "sql_select = 'SELECT * FROM sumaho;'\n",
    "\n",
    "#sqlを実行する\n",
    "cur.execute(sql_select)\n",
    "\n",
    "for r in cur:\n",
    "  print(r)\n",
    "\n",
    "con.close()"
   ]
  }
 ],
 "metadata": {
  "kernelspec": {
   "display_name": "Python 3",
   "language": "python",
   "name": "python3"
  },
  "language_info": {
   "codemirror_mode": {
    "name": "ipython",
    "version": 3
   },
   "file_extension": ".py",
   "mimetype": "text/x-python",
   "name": "python",
   "nbconvert_exporter": "python",
   "pygments_lexer": "ipython3",
   "version": "3.11.0"
  }
 },
 "nbformat": 4,
 "nbformat_minor": 2
}
